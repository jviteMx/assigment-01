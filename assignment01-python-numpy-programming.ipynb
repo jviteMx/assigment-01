{
 "cells": [
  {
   "cell_type": "markdown",
   "id": "45aa7f8b05f9d753",
   "metadata": {},
   "source": [
    "# Assignment #01\n",
    "\n",
    "This assignment is composed of multiple Python and NumPy programming exercises. The deliverable of this assignment is this jupyter-notebook completed with your solution.\n",
    "\n",
    "The delivery instructions are the following:\n",
    "    - Create a GitHub repository for your team. You are free to choose its name. This repository will be used to delvier the programming assignments and the code of your team's final project.\n",
    "    - Create a folder assignment-01 in the repository. Put the jupyter-notebook with your solution in this repository and post the repository link in your team's D2L dropbox for the assignment.\n",
    "\n",
    "You are being assessed based on:\n",
    "\n",
    "1. Code execution - 25% \n",
    "2. Clarity of the code (e.g., easy to follow, has pertinent comments, etc.) - 25%\n",
    "3. Proper usage of the techniques seen in class - 25%\n",
    "    - remember to avoid explicit Python loops!  \n",
    "4. Quality and correcteness of the results - 25%\n",
    "\n",
    "More details about the assessment are available in the rubric document in the class GitHub repository.\n",
    "\n",
    "Points distribution:\n",
    "- Question 2-21: 3 points per question \n",
    "- Questions 22-26: 8 points per question (total 40)\n",
    "- Total: 100 ponits"
   ]
  },
  {
   "cell_type": "code",
   "execution_count": 1,
   "id": "7afc15c99ff79d4f",
   "metadata": {
    "is_executing": true
   },
   "outputs": [],
   "source": [
    "import matplotlib.pylab as plt"
   ]
  },
  {
   "cell_type": "markdown",
   "id": "2a5e931c18526a4b",
   "metadata": {},
   "source": [
    "**1. Import the numpy package under the name np**"
   ]
  },
  {
   "cell_type": "code",
   "execution_count": 5,
   "id": "1cd6bec4ec01fe7a",
   "metadata": {
    "is_executing": true
   },
   "outputs": [],
   "source": [
    "import numpy as np\n",
    "#just for code consistency I have moved this import up top\n",
    "from PIL import Image"
   ]
  },
  {
   "cell_type": "markdown",
   "id": "cc55a80742f7d9bb",
   "metadata": {},
   "source": [
    "**2. Print the numpy version and the configuration**"
   ]
  },
  {
   "cell_type": "code",
   "execution_count": 4,
   "id": "9aae00b432e61a0d",
   "metadata": {
    "is_executing": true
   },
   "outputs": [
    {
     "name": "stdout",
     "output_type": "stream",
     "text": [
      "1.26.0\n",
      "Build Dependencies:\n",
      "  blas:\n",
      "    detection method: pkgconfig\n",
      "    found: true\n",
      "    include directory: /c/opt/64/include\n",
      "    lib directory: /c/opt/64/lib\n",
      "    name: openblas64\n",
      "    openblas configuration: USE_64BITINT=1 DYNAMIC_ARCH=1 DYNAMIC_OLDER= NO_CBLAS=\n",
      "      NO_LAPACK= NO_LAPACKE= NO_AFFINITY=1 USE_OPENMP= SKYLAKEX MAX_THREADS=2\n",
      "    pc file directory: C:/opt/64/lib/pkgconfig\n",
      "    version: 0.3.23.dev\n",
      "  lapack:\n",
      "    detection method: pkgconfig\n",
      "    found: true\n",
      "    include directory: /c/opt/64/include\n",
      "    lib directory: /c/opt/64/lib\n",
      "    name: openblas64\n",
      "    openblas configuration: USE_64BITINT=1 DYNAMIC_ARCH=1 DYNAMIC_OLDER= NO_CBLAS=\n",
      "      NO_LAPACK= NO_LAPACKE= NO_AFFINITY=1 USE_OPENMP= SKYLAKEX MAX_THREADS=2\n",
      "    pc file directory: C:/opt/64/lib/pkgconfig\n",
      "    version: 0.3.23.dev\n",
      "Compilers:\n",
      "  c:\n",
      "    commands: cl\n",
      "    linker: link\n",
      "    name: msvc\n",
      "    version: 19.29.30152\n",
      "  c++:\n",
      "    commands: cl\n",
      "    linker: link\n",
      "    name: msvc\n",
      "    version: 19.29.30152\n",
      "  cython:\n",
      "    commands: cython\n",
      "    linker: cython\n",
      "    name: cython\n",
      "    version: 3.0.2\n",
      "Machine Information:\n",
      "  build:\n",
      "    cpu: x86_64\n",
      "    endian: little\n",
      "    family: x86_64\n",
      "    system: windows\n",
      "  host:\n",
      "    cpu: x86_64\n",
      "    endian: little\n",
      "    family: x86_64\n",
      "    system: windows\n",
      "Python Information:\n",
      "  path: C:\\Users\\runneradmin\\AppData\\Local\\Temp\\cibw-run-q7ncjvy3\\cp39-win_amd64\\build\\venv\\Scripts\\python.exe\n",
      "  version: '3.9'\n",
      "SIMD Extensions:\n",
      "  baseline:\n",
      "  - SSE\n",
      "  - SSE2\n",
      "  - SSE3\n",
      "  found:\n",
      "  - SSSE3\n",
      "  - SSE41\n",
      "  - POPCNT\n",
      "  - SSE42\n",
      "  - AVX\n",
      "  - F16C\n",
      "  - FMA3\n",
      "  - AVX2\n",
      "  not found:\n",
      "  - AVX512F\n",
      "  - AVX512CD\n",
      "  - AVX512_SKX\n",
      "  - AVX512_CLX\n",
      "  - AVX512_CNL\n",
      "  - AVX512_ICL\n",
      "\n",
      "None\n"
     ]
    }
   ],
   "source": [
    "print(np.__version__)\n",
    "print(np.show_config())"
   ]
  },
  {
   "cell_type": "markdown",
   "id": "5e2035248044ae67",
   "metadata": {},
   "source": [
    "**3. Create a 1D array of zeros of size 10 of type float32**"
   ]
  },
  {
   "cell_type": "code",
   "execution_count": 5,
   "id": "e4f044d0993c4827",
   "metadata": {},
   "outputs": [
    {
     "name": "stdout",
     "output_type": "stream",
     "text": [
      "\n",
      "1D Array of Zeros (float32):\n",
      " [0. 0. 0. 0. 0. 0. 0. 0. 0. 0.]\n"
     ]
    }
   ],
   "source": [
    "array_zeros = np.zeros(10, dtype=np.float32)\n",
    "print(\"\\n1D Array of Zeros (float32):\\n\", array_zeros)"
   ]
  },
  {
   "cell_type": "markdown",
   "id": "4e8b91e4198d8749",
   "metadata": {},
   "source": [
    "**4. Print the memory size of the array below**"
   ]
  },
  {
   "cell_type": "code",
   "execution_count": 6,
   "id": "8980b6168e0da304",
   "metadata": {},
   "outputs": [
    {
     "name": "stdout",
     "output_type": "stream",
     "text": [
      "\n",
      "Memory size of Z: 3072 bytes\n"
     ]
    }
   ],
   "source": [
    "Z = np.zeros((32,12))\n",
    "# Include your solution below\n",
    "print(\"\\nMemory size of Z:\", Z.nbytes, \"bytes\")"
   ]
  },
  {
   "cell_type": "markdown",
   "id": "fd3a067999cb9ca0",
   "metadata": {},
   "source": [
    "**5. Create a 1D array with values ranging from 10 to 58**"
   ]
  },
  {
   "cell_type": "code",
   "execution_count": 7,
   "id": "8cc44924a97236b5",
   "metadata": {},
   "outputs": [
    {
     "name": "stdout",
     "output_type": "stream",
     "text": [
      "\n",
      "1D Array with Values Ranging from 10 to 58:\n",
      " [10 11 12 13 14 15 16 17 18 19 20 21 22 23 24 25 26 27 28 29 30 31 32 33\n",
      " 34 35 36 37 38 39 40 41 42 43 44 45 46 47 48 49 50 51 52 53 54 55 56 57\n",
      " 58]\n"
     ]
    }
   ],
   "source": [
    "array_values = np.arange(10, 59)\n",
    "print(\"\\n1D Array with Values Ranging from 10 to 58:\\n\", array_values)"
   ]
  },
  {
   "cell_type": "markdown",
   "id": "733686bce7820890",
   "metadata": {},
   "source": [
    "**6. Reverse the order of the values in the vector (first element becomes last)**"
   ]
  },
  {
   "cell_type": "code",
   "execution_count": 9,
   "id": "a9c01f57ff0d42c5",
   "metadata": {},
   "outputs": [
    {
     "name": "stdout",
     "output_type": "stream",
     "text": [
      "\n",
      "Reversed Vector:\n",
      " [9 8 7 6 5 4 3 2 1 0]\n"
     ]
    }
   ],
   "source": [
    "a = np.arange(10)\n",
    "# Include your solution below\n",
    "reversed_a = a[::-1]\n",
    "print(\"\\nReversed Vector:\\n\", reversed_a)"
   ]
  },
  {
   "cell_type": "markdown",
   "id": "4f09cf87c24982e3",
   "metadata": {},
   "source": [
    "**7. Create a 3x3 matrix with values ranging from 0 to 8**"
   ]
  },
  {
   "cell_type": "code",
   "execution_count": 10,
   "id": "9c6a0462370a06b2",
   "metadata": {},
   "outputs": [
    {
     "name": "stdout",
     "output_type": "stream",
     "text": [
      "\n",
      "3x3 Matrix with Values Ranging from 0 to 8:\n",
      " [[0 1 2]\n",
      " [3 4 5]\n",
      " [6 7 8]]\n"
     ]
    }
   ],
   "source": [
    "matrix_3x3 = np.arange(9).reshape(3, 3)\n",
    "print(\"\\n3x3 Matrix with Values Ranging from 0 to 8:\\n\", matrix_3x3)"
   ]
  },
  {
   "cell_type": "markdown",
   "id": "fba99fb7a8539736",
   "metadata": {},
   "source": [
    "**8. Create a 3x3 identity matrix**"
   ]
  },
  {
   "cell_type": "code",
   "execution_count": 11,
   "id": "875f11aefcc7ffb9",
   "metadata": {},
   "outputs": [
    {
     "name": "stdout",
     "output_type": "stream",
     "text": [
      "\n",
      "3x3 Identity Matrix:\n",
      " [[1. 0. 0.]\n",
      " [0. 1. 0.]\n",
      " [0. 0. 1.]]\n"
     ]
    }
   ],
   "source": [
    "identity_matrix = np.eye(3)\n",
    "print(\"\\n3x3 Identity Matrix:\\n\", identity_matrix)"
   ]
  },
  {
   "cell_type": "markdown",
   "id": "1443db17ead7096f",
   "metadata": {},
   "source": [
    "**9. Find and print the maximum values of each column in the array below** "
   ]
  },
  {
   "cell_type": "code",
   "execution_count": 13,
   "id": "9bcf680e0d3bc984",
   "metadata": {},
   "outputs": [],
   "source": [
    "Z = np.random.random((10,11))\n",
    "# Include your solution below\n"
   ]
  },
  {
   "cell_type": "code",
   "execution_count": 14,
   "id": "f6cfe4dfe84fb0c5",
   "metadata": {},
   "outputs": [
    {
     "name": "stdout",
     "output_type": "stream",
     "text": [
      "\n",
      "Maximum Values of Each Column:\n",
      " [0.89802609 0.99040387 0.99431925 0.90599221 0.9880566  0.75460485\n",
      " 0.88684954 0.84209312 0.90022536 0.88994747 0.98478332]\n"
     ]
    }
   ],
   "source": [
    "max_values_columns = np.max(Z, axis=0)\n",
    "print(\"\\nMaximum Values of Each Column:\\n\", max_values_columns)"
   ]
  },
  {
   "cell_type": "markdown",
   "id": "7cbb62772a307f47",
   "metadata": {},
   "source": [
    "**10. Create a $7 \\times 7$ array with 1s on the borders (first row and column, last row and columns) and 0s everywhere else**"
   ]
  },
  {
   "cell_type": "code",
   "execution_count": 15,
   "id": "6a926d3f4da56bc0",
   "metadata": {},
   "outputs": [
    {
     "name": "stdout",
     "output_type": "stream",
     "text": [
      "\n",
      "2D Array with 1s on Borders:\n",
      " [[1. 1. 1. 1. 1.]\n",
      " [1. 0. 0. 0. 1.]\n",
      " [1. 0. 0. 0. 1.]\n",
      " [1. 0. 0. 0. 1.]\n",
      " [1. 1. 1. 1. 1.]]\n"
     ]
    }
   ],
   "source": [
    "array_borders = np.ones((5, 5))\n",
    "array_borders[1:-1, 1:-1] = 0\n",
    "print(\"\\n2D Array with 1s on Borders:\\n\", array_borders)"
   ]
  },
  {
   "cell_type": "markdown",
   "id": "5dc92b987526b329",
   "metadata": {},
   "source": [
    "**11. Pad the existing array below with zeros (i.e., add additional rows and columns with zeros). Use the NumPy pad function.**"
   ]
  },
  {
   "cell_type": "code",
   "execution_count": 16,
   "id": "ccaa92440f204ce2",
   "metadata": {},
   "outputs": [
    {
     "name": "stdout",
     "output_type": "stream",
     "text": [
      "\n",
      "Padded Array:\n",
      " [[0. 0. 0. 0. 0. 0. 0.]\n",
      " [0. 1. 1. 1. 1. 1. 0.]\n",
      " [0. 1. 1. 1. 1. 1. 0.]\n",
      " [0. 1. 1. 1. 1. 1. 0.]\n",
      " [0. 1. 1. 1. 1. 1. 0.]\n",
      " [0. 1. 1. 1. 1. 1. 0.]\n",
      " [0. 0. 0. 0. 0. 0. 0.]]\n"
     ]
    }
   ],
   "source": [
    "Z = np.ones((5,5))\n",
    "# Include your solution below\n",
    "Z_padded = np.pad(Z, pad_width=1, mode='constant', constant_values=0)\n",
    "print(\"\\nPadded Array:\\n\", Z_padded)"
   ]
  },
  {
   "cell_type": "markdown",
   "id": "2660736d76e16674",
   "metadata": {},
   "source": [
    "**12. Extract the integer part of the random array of positive numbers below**"
   ]
  },
  {
   "cell_type": "code",
   "execution_count": 17,
   "id": "362e1d8dd5f4ea66",
   "metadata": {},
   "outputs": [
    {
     "name": "stdout",
     "output_type": "stream",
     "text": [
      "\n",
      "Integer Part of Random Array:\n",
      " [3. 5. 6. 0. 6. 6. 3. 4. 0. 0.]\n"
     ]
    }
   ],
   "source": [
    "Z = np.random.uniform(0,10,10)\n",
    "# Include your solution below\n",
    "integer_part = np.floor(Z)\n",
    "print(\"\\nInteger Part of Random Array:\\n\", integer_part)"
   ]
  },
  {
   "cell_type": "markdown",
   "id": "2b3b999c844519fc",
   "metadata": {},
   "source": [
    "**13. Create a 5x5 matrix with rows with equal values ranging from 0 to 4 (i.e., [0,1,2,3,4])**\n",
    "\n",
    "*Hint:* consider using NumPy broadcasting or the tile function*"
   ]
  },
  {
   "cell_type": "code",
   "execution_count": 18,
   "id": "f08d33c531a37f32",
   "metadata": {},
   "outputs": [
    {
     "name": "stdout",
     "output_type": "stream",
     "text": [
      "\n",
      "5x5 Matrix with Equal Value Rows:\n",
      " [[0. 1. 2. 3. 4.]\n",
      " [0. 1. 2. 3. 4.]\n",
      " [0. 1. 2. 3. 4.]\n",
      " [0. 1. 2. 3. 4.]\n",
      " [0. 1. 2. 3. 4.]]\n"
     ]
    }
   ],
   "source": [
    "matrix_equal_rows = np.zeros((5,5)) + np.arange(5)\n",
    "print(\"\\n5x5 Matrix with Equal Value Rows:\\n\", matrix_equal_rows)"
   ]
  },
  {
   "cell_type": "markdown",
   "id": "7a9f0e7d3719502f",
   "metadata": {},
   "source": [
    "**14. Create a vector of size 10 with values ranging from 0 to 1 (0 and 1 not included)**\n",
    "\n",
    "*Hint: Consider using the linspace function*"
   ]
  },
  {
   "cell_type": "code",
   "execution_count": 19,
   "id": "33759aa0e6c00289",
   "metadata": {},
   "outputs": [
    {
     "name": "stdout",
     "output_type": "stream",
     "text": [
      "\n",
      "Vector of Size 10 Ranging from 0 to 1:\n",
      " [0.09090909 0.18181818 0.27272727 0.36363636 0.45454545 0.54545455\n",
      " 0.63636364 0.72727273 0.81818182 0.90909091]\n"
     ]
    }
   ],
   "source": [
    "vector_range_01 = np.linspace(0, 1, 12)[1:-1]\n",
    "print(\"\\nVector of Size 10 Ranging from 0 to 1:\\n\", vector_range_01)"
   ]
  },
  {
   "cell_type": "markdown",
   "id": "e0acf4ac767728e4",
   "metadata": {},
   "source": [
    "**15. Create a random vector of size 10 and sort it**"
   ]
  },
  {
   "cell_type": "code",
   "execution_count": 20,
   "id": "93e6a9cd5e456b46",
   "metadata": {},
   "outputs": [
    {
     "name": "stdout",
     "output_type": "stream",
     "text": [
      "\n",
      "Sorted Random Vector:\n",
      " [0.00882048 0.04922407 0.18256754 0.26823742 0.33733601 0.33918679\n",
      " 0.45862328 0.47771184 0.69132891 0.91288442]\n"
     ]
    }
   ],
   "source": [
    "random_vector = np.random.random(10)\n",
    "sorted_vector = np.sort(random_vector)\n",
    "print(\"\\nSorted Random Vector:\\n\", sorted_vector)"
   ]
  },
  {
   "cell_type": "markdown",
   "id": "fc052b3376cd7a31",
   "metadata": {},
   "source": [
    "**16. Consider the cartesian coordinates below (X and Y), convert them to polar coordinates (R and T)**"
   ]
  },
  {
   "cell_type": "code",
   "execution_count": 21,
   "id": "eb47e170129c6491",
   "metadata": {},
   "outputs": [
    {
     "name": "stdout",
     "output_type": "stream",
     "text": [
      "\n",
      "Cartesian Coordinates (X,Y):\n",
      " [[0.13269482 0.8051714 ]\n",
      " [0.03591017 0.23695027]\n",
      " [0.06169769 0.98289759]\n",
      " [0.31828575 0.80579397]\n",
      " [0.48883176 0.44421887]\n",
      " [0.07741141 0.75946502]\n",
      " [0.88260608 0.99208527]\n",
      " [0.73582849 0.69631009]\n",
      " [0.4307477  0.94392824]\n",
      " [0.04239042 0.20704651]]\n",
      "\n",
      "Polar Coordinates (R, Theta):\n",
      " [[0.81603241 1.4074613 ]\n",
      " [0.23965594 1.42038937]\n",
      " [0.98483211 1.50810734]\n",
      " [0.86637736 1.19461079]\n",
      " [0.66052017 0.73762054]\n",
      " [0.76340006 1.46921827]\n",
      " [1.32786546 0.84373043]\n",
      " [1.01306037 0.75781118]\n",
      " [1.03756643 1.14268654]\n",
      " [0.21134144 1.36884857]]\n"
     ]
    }
   ],
   "source": [
    "Z = np.random.random((10,2))\n",
    "X,Y = Z[:,0], Z[:,1]\n",
    "# Include your solution below\n",
    "R = np.sqrt(X**2 + Y**2)\n",
    "T = np.arctan2(Y,X)\n",
    "print(\"\\nCartesian Coordinates (X,Y):\\n\", Z)\n",
    "print(\"\\nPolar Coordinates (R, Theta):\\n\", np.column_stack((R,T)))"
   ]
  },
  {
   "cell_type": "markdown",
   "id": "a48f0cd3f556d8e",
   "metadata": {},
   "source": [
    "**17. Create random vector of size 10 and replace the maximum value by 0**"
   ]
  },
  {
   "cell_type": "code",
   "execution_count": 40,
   "id": "a28e197e95159f0f",
   "metadata": {},
   "outputs": [
    {
     "name": "stdout",
     "output_type": "stream",
     "text": [
      "\n",
      "Random Vector without Maximum Value Replaced by 0:\n",
      " [0.06873401 0.05369503 0.56616859 0.78249676 0.82781264 0.72108943\n",
      " 0.94906379 0.15306235 0.9629244  0.07726749]\n",
      "\n",
      "Random Vector with Maximum Value Replaced by 0:\n",
      " [0.06873401 0.05369503 0.56616859 0.78249676 0.82781264 0.72108943\n",
      " 0.94906379 0.15306235 0.         0.07726749]\n"
     ]
    }
   ],
   "source": [
    "random_vector_origin = np.random.random(10)\n",
    "print(\"\\nRandom Vector without Maximum Value Replaced by 0:\\n\", random_vector_origin)\n",
    "random_vector_origin[random_vector_origin.argmax()] = '0'\n",
    "print(\"\\nRandom Vector with Maximum Value Replaced by 0:\\n\", random_vector_origin)"
   ]
  },
  {
   "cell_type": "markdown",
   "id": "a0c65d8eb9aaf2d",
   "metadata": {},
   "source": [
    "**18. Find the nearest value from a given value (z) in an array (Z)**"
   ]
  },
  {
   "cell_type": "code",
   "execution_count": 41,
   "id": "533903c644a13002",
   "metadata": {},
   "outputs": [
    {
     "name": "stdout",
     "output_type": "stream",
     "text": [
      "\n",
      "Nearest Value to 0.5 in Array Z: 0.505781197165011\n"
     ]
    }
   ],
   "source": [
    "Z = np.random.uniform(0,1,10)\n",
    "z = 0.5\n",
    "# Include your solution below\n",
    "nearest_value = Z[np.abs(Z - z).argmin()]\n",
    "print(\"\\nNearest Value to\", z, \"in Array Z:\", nearest_value)"
   ]
  },
  {
   "cell_type": "markdown",
   "id": "4b9ef574dc1cfd43",
   "metadata": {},
   "source": [
    "**19. Consider the vector [5, 4, 3, 2, 1], how to build a new vector with 3 consecutive zeros interleaved between each value?**"
   ]
  },
  {
   "cell_type": "code",
   "execution_count": 42,
   "id": "7cc4125ff615a350",
   "metadata": {},
   "outputs": [
    {
     "name": "stdout",
     "output_type": "stream",
     "text": [
      "\n",
      "New Vector with 3 Consecutive Zeros Interleaved:\n",
      " [4. 0. 0. 0. 3. 0. 0. 0. 2. 0. 0. 0. 1. 0. 0. 0. 0.]\n"
     ]
    }
   ],
   "source": [
    "Z = np.arange(5)[::-1]\n",
    "# Include your solution below\n",
    "new_vector = np.zeros(len(Z) + (len(Z)-1) * 3)\n",
    "new_vector[::4] = Z\n",
    "print(\"\\nNew Vector with 3 Consecutive Zeros Interleaved:\\n\", new_vector)"
   ]
  },
  {
   "cell_type": "markdown",
   "id": "293aa9a87afe2dee",
   "metadata": {},
   "source": [
    "**20. Consider an array of dimension (5,5,3), how to mulitply it element-wise by an array with dimensions (5,5) - i.e., (5,5,0)$\\times$(5,5), (5,5,1)$\\times$(5,5), (5,5,2)$\\times$(5,5)**"
   ]
  },
  {
   "cell_type": "code",
   "execution_count": 43,
   "id": "41b3d6b7403a6d5f",
   "metadata": {},
   "outputs": [
    {
     "name": "stdout",
     "output_type": "stream",
     "text": [
      "\n",
      "Element-wise Multiplication Result:\n",
      " [[[2. 2. 2.]\n",
      "  [2. 2. 2.]\n",
      "  [2. 2. 2.]\n",
      "  [2. 2. 2.]\n",
      "  [2. 2. 2.]]\n",
      "\n",
      " [[2. 2. 2.]\n",
      "  [2. 2. 2.]\n",
      "  [2. 2. 2.]\n",
      "  [2. 2. 2.]\n",
      "  [2. 2. 2.]]\n",
      "\n",
      " [[2. 2. 2.]\n",
      "  [2. 2. 2.]\n",
      "  [2. 2. 2.]\n",
      "  [2. 2. 2.]\n",
      "  [2. 2. 2.]]\n",
      "\n",
      " [[2. 2. 2.]\n",
      "  [2. 2. 2.]\n",
      "  [2. 2. 2.]\n",
      "  [2. 2. 2.]\n",
      "  [2. 2. 2.]]\n",
      "\n",
      " [[2. 2. 2.]\n",
      "  [2. 2. 2.]\n",
      "  [2. 2. 2.]\n",
      "  [2. 2. 2.]\n",
      "  [2. 2. 2.]]]\n"
     ]
    }
   ],
   "source": [
    "A = np.ones((5,5,3))\n",
    "B = 2*np.ones((5,5))\n",
    "# Include your solution below\n",
    "result = A * B[:,:,None]\n",
    "print(\"\\nElement-wise Multiplication Result:\\n\", result)\n"
   ]
  },
  {
   "cell_type": "markdown",
   "id": "671fd6e1f44be622",
   "metadata": {},
   "source": [
    "**21. Swap the first and second rows of the 2D array below**"
   ]
  },
  {
   "cell_type": "code",
   "execution_count": 44,
   "id": "f7e1ce6eb367e764",
   "metadata": {},
   "outputs": [
    {
     "name": "stdout",
     "output_type": "stream",
     "text": [
      "[[ 0  1  2  3  4]\n",
      " [ 5  6  7  8  9]\n",
      " [10 11 12 13 14]\n",
      " [15 16 17 18 19]\n",
      " [20 21 22 23 24]\n",
      " [25 26 27 28 29]]\n",
      "\n",
      "\n",
      "Swapped Rows in 2D Array:\n",
      " [[ 5  6  7  8  9]\n",
      " [ 0  1  2  3  4]\n",
      " [10 11 12 13 14]\n",
      " [15 16 17 18 19]\n",
      " [20 21 22 23 24]\n",
      " [25 26 27 28 29]]\n"
     ]
    }
   ],
   "source": [
    "W = np.arange(30).reshape(6,5)\n",
    "print(W)\n",
    "print()\n",
    "# Include your solution below\n",
    "W[[0, 1]] = W[[1, 0]]\n",
    "print(\"\\nSwapped Rows in 2D Array:\\n\", W)"
   ]
  },
  {
   "cell_type": "markdown",
   "id": "cb4bd20e39f3110a",
   "metadata": {},
   "source": [
    "**22. Write a function that receives as input a 2D Boolean NumPy array and outputs the coordinates of the minimal bounding-box\n",
    "that encloses all non-zero elements in the input array**\n",
    "\n",
    "**Tip:** search for the functions nonzero and where in the NumPy documentation.\n",
    "\n",
    "\n",
    "<img src=\"../Figures/bbox.png\" width=\"150\" /> "
   ]
  },
  {
   "cell_type": "code",
   "execution_count": 7,
   "id": "4f8cc5bf",
   "metadata": {},
   "outputs": [],
   "source": [
    "# This bit of code allows to check if jupyter has access to the files in Figures, important because not always the images\n",
    "# are loaded from the correct folder.\n",
    "import os\n",
    "files = [f for f in os.listdir('./Figures/') if os.path.isfile(f)]\n",
    "for f in files:\n",
    "    print(\"FileFound\")"
   ]
  },
  {
   "cell_type": "code",
   "execution_count": 9,
   "id": "6d3abc83d773464f",
   "metadata": {},
   "outputs": [
    {
     "name": "stdout",
     "output_type": "stream",
     "text": [
      "((29, 50), (342, 431))\n"
     ]
    }
   ],
   "source": [
    "def bbox(img):\n",
    "    #include your solution below\n",
    "    rows = np.any(img, axis=1)\n",
    "    cols = np.any(img, axis=0)\n",
    "    r1, r2 = np.where(rows)[0][[0, -1]]\n",
    "    c1, c2 = np.where(cols)[0][[0, -1]]\n",
    "    return (r1,c1),(r2,c2)\n",
    "\n",
    "\n",
    "\n",
    "\n",
    "img = np.array(Image.open('./Figures/bin_image.png').convert('L')) > 0\n",
    "print(bbox(img))"
   ]
  },
  {
   "cell_type": "markdown",
   "id": "fc0a324c",
   "metadata": {},
   "source": [
    "REASONING:                                                                                              \n",
    "In image processing and computer vision tasks, determining the bounding box of an object is crucial for tasks like object detection and segmentation.\n",
    "The function bbox(img) takes a 2D Boolean NumPy array img as input, where True represents the presence of an object and False represents the background.\n",
    "The function works by first finding rows and columns where any non-zero (i.e., True) values exist using np.any(). This gives us the coordinates of the bounding box.\n",
    "Then, I use np.where() to find the indices of the first and last non-zero elements along each axis, giving us the coordinates of the top-left and bottom-right corners of the bounding box.\n",
    "Finally, we return these coordinates as a tuple (r1,c1),(r2,c2) representing the top-left and bottom-right corners of the bounding box."
   ]
  },
  {
   "cell_type": "markdown",
   "id": "93a73ce0a1794615",
   "metadata": {},
   "source": [
    "**23.Write a function to compute the average over a sliding window of length N over a 1D array?**\n",
    "\n",
    "*Example:* [1,2,3,4,5,6,7,8,9], N = 3 -> [2,5,8]"
   ]
  },
  {
   "cell_type": "code",
   "execution_count": 11,
   "id": "c424e3c326c4d7b1",
   "metadata": {},
   "outputs": [
    {
     "name": "stdout",
     "output_type": "stream",
     "text": [
      "[ 1.  2.  3.  4.  5.  6.  7.  8.  9. 10. 11. 12. 13. 14. 15. 16. 17. 18.\n",
      " 19. 20. 21. 22. 23. 24. 25. 26. 27. 28.]\n"
     ]
    }
   ],
   "source": [
    "def moving_average(x,N):\n",
    "    return np.convolve(x, np.ones(N), 'valid') / N\n",
    "\n",
    "a = np.arange(30)\n",
    "N = 3\n",
    "print(moving_average(a,N))"
   ]
  },
  {
   "cell_type": "markdown",
   "id": "8c0700d3",
   "metadata": {},
   "source": [
    "REASONING:\n",
    "A moving average is a calculation used to analyze data points by creating a series of averages of different subsets of the full data set. It's useful for smoothing out short-term fluctuations and highlighting longer-term trends.\n",
    "The function moving_average(x, N=3) takes a 1D NumPy array x and an optional parameter N specifying the length of the sliding window.\n",
    "It uses np.convolve() to convolve the input array x with a window of ones of length N. This operation effectively calculates the sum of each window.\n",
    "Then, it divides the result by N to compute the average over each window.\n",
    "The 'valid' mode in np.convolve() ensures that the output array only contains values where the window fully overlaps with the input array, avoiding edge effects.\n",
    "The function returns an array containing the moving averages."
   ]
  },
  {
   "cell_type": "markdown",
   "id": "530b779e19055731",
   "metadata": {},
   "source": [
    "**24.  Given a sorted 1D array C that corresponds to a bincount, how to produce an array A such that np.bincount(A) == C?**\n",
    "\n",
    "*Example:* C = [3,2,4] -> D = [0,0,0,1,1,2,2,2,2]\n",
    "\n",
    "*Tip:* Consider using the NumPy repeat function"
   ]
  },
  {
   "cell_type": "code",
   "execution_count": 12,
   "id": "6262b3f868c2c213",
   "metadata": {},
   "outputs": [
    {
     "name": "stdout",
     "output_type": "stream",
     "text": [
      "[0 2 1 1 2 0 1]\n",
      "\n",
      "Array A such that np.bincount(A) == C: [1 1 2 3 4 4 6]\n"
     ]
    }
   ],
   "source": [
    "C = np.bincount([1,1,2,3,4,4,6])\n",
    "print(C)\n",
    "# Include yoru solution here\n",
    "A = np.repeat(np.arange(len(C)), C)\n",
    "print(\"\\nArray A such that np.bincount(A) == C:\", A)"
   ]
  },
  {
   "cell_type": "markdown",
   "id": "2f4a9f8a",
   "metadata": {},
   "source": [
    "REASONING:\n",
    "np.bincount() is a function that counts occurrences of each value in an array of non-negative integers.\n",
    "In this question, I start with an array C that corresponds to the output of np.bincount() on another array.\n",
    "The goal is to create an array A such that np.bincount(A) equals C.\n",
    "To achieve this, I use np.repeat() to repeat each index in the range of len(C) by the corresponding count in C.\n",
    "This ensures that when np.bincount() is applied to A, the resulting counts match those in C.\n",
    "The resulting array A thus fulfills the requirement of having a bincount equal to C."
   ]
  },
  {
   "cell_type": "markdown",
   "id": "a50add27909b9f9",
   "metadata": {},
   "source": [
    "**25. Find the most frequent value in the array below?**"
   ]
  },
  {
   "cell_type": "code",
   "execution_count": 13,
   "id": "736edfdf29e704d6",
   "metadata": {},
   "outputs": [
    {
     "name": "stdout",
     "output_type": "stream",
     "text": [
      "\n",
      "Most Frequent Value in the Array: 8\n"
     ]
    }
   ],
   "source": [
    "Z = np.random.randint(0,10,50)\n",
    "# Include your solution below\n",
    "most_frequent_value = np.bincount(Z).argmax()\n",
    "print(\"\\nMost Frequent Value in the Array:\", most_frequent_value)\n"
   ]
  },
  {
   "cell_type": "markdown",
   "id": "4288cbedbd77d2a6",
   "metadata": {},
   "source": [
    "**26. Write a function to return the n largest values of an array** "
   ]
  },
  {
   "cell_type": "code",
   "execution_count": 17,
   "id": "257f327788b1123d",
   "metadata": {},
   "outputs": [
    {
     "name": "stdout",
     "output_type": "stream",
     "text": [
      "[9995 9996 9997 9998 9999]\n"
     ]
    }
   ],
   "source": [
    "def nlargest(a,n):\n",
    "    # Include your solution here\n",
    "    return np.sort(a)[-n:]\n",
    "    return\n",
    "\n",
    "Z = np.arange(10000)\n",
    "np.random.shuffle(Z)\n",
    "n = 5\n",
    "print(nlargest(Z,n))    "
   ]
  }
 ],
 "metadata": {
  "kernelspec": {
   "display_name": "Python 3",
   "language": "python",
   "name": "python3"
  },
  "language_info": {
   "codemirror_mode": {
    "name": "ipython",
    "version": 3
   },
   "file_extension": ".py",
   "mimetype": "text/x-python",
   "name": "python",
   "nbconvert_exporter": "python",
   "pygments_lexer": "ipython3",
   "version": "3.9.13"
  }
 },
 "nbformat": 4,
 "nbformat_minor": 5
}
